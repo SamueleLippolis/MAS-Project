{
 "cells": [
  {
   "cell_type": "markdown",
   "metadata": {},
   "source": [
    "# MAS - PROJECT\n",
    "\n",
    "# Brench and bound DSF"
   ]
  },
  {
   "cell_type": "markdown",
   "metadata": {},
   "source": [
    "Lib"
   ]
  },
  {
   "cell_type": "code",
   "execution_count": 71,
   "metadata": {},
   "outputs": [],
   "source": [
    "import random\n",
    "import numpy as np\n",
    "import itertools\n",
    "import time"
   ]
  },
  {
   "cell_type": "markdown",
   "metadata": {},
   "source": [
    "list and tuples"
   ]
  },
  {
   "cell_type": "code",
   "execution_count": 72,
   "metadata": {},
   "outputs": [
    {
     "name": "stdout",
     "output_type": "stream",
     "text": [
      "[['e', 'f'], ['c', 'd'], ['a', 'b']]\n",
      "[['e', 'f'], ['c', 'd'], ['a', 'b'], ['g', 'h']]\n"
     ]
    }
   ],
   "source": [
    "# Function to perform the union operation\n",
    "def union_listOflists_list(X, o_d):\n",
    "    # Convert lists to tuples\n",
    "    X_tuples = set(map(tuple, X))\n",
    "    o_d_tuple = tuple(o_d)\n",
    "    \n",
    "    # Perform the union operation\n",
    "    result_set = X_tuples | {o_d_tuple}\n",
    "    \n",
    "    # Convert the result back to a list of lists\n",
    "    result = [list(item) for item in result_set]\n",
    "    \n",
    "    return result\n",
    "\n",
    "# Example lists\n",
    "l1 = ['a', 'b']\n",
    "l2 = ['c', 'd']\n",
    "l3 = ['e', 'f']\n",
    "l4 = ['g', 'h']\n",
    "\n",
    "# Example X and O\n",
    "X = [l1, l2, l3]\n",
    "O = [l1, l4]  # Suppose O[0] = l1, O[1] = l4\n",
    "\n",
    "# Example usage\n",
    "d = 0  # Suppose we want to use the first element of O\n",
    "result = union_listOflists_list(X, O[d])\n",
    "print(result)  # Output: [['a', 'b'], ['c', 'd'], ['e', 'f']] (since O[0] = l1 is already in X)\n",
    "\n",
    "d = 1  # Suppose we want to use the second element of O\n",
    "result = union_listOflists_list(X, O[d])\n",
    "print(result)  # Output: [['a', 'b'], ['c', 'd'], ['e', 'f'], ['g', 'h']] (since O[1] = l4 is not in X)\n"
   ]
  },
  {
   "cell_type": "markdown",
   "metadata": {},
   "source": [
    "# o_X ecc... "
   ]
  },
  {
   "cell_type": "markdown",
   "metadata": {},
   "source": [
    "$\n",
    "o_X \\longrightarrow o_X (\\theta)\n",
    "$"
   ]
  },
  {
   "cell_type": "code",
   "execution_count": 73,
   "metadata": {},
   "outputs": [],
   "source": [
    "def o_X(theta, X, g, u):\n",
    "    \"\"\"\n",
    "    This function returns the element o in X that maximizes g(theta, o) \n",
    "    subject to the condition that u(theta, o) >= u(theta, o') for all o' in X.\n",
    "    \n",
    "    :param g: Function g(θ, o)\n",
    "    :param X: List of elements\n",
    "    :param u: Function u(θ, o)\n",
    "    :param theta: Parameter θ\n",
    "    \n",
    "    :return: The element in X that maximizes g(θ, o) under the given condition\n",
    "    \"\"\"\n",
    "    # Finding the element that satisfies the condition on u and maximizes g\n",
    "    max_element = None\n",
    "    max_value = float('-inf')\n",
    "    \n",
    "    for o in X:\n",
    "        if all(u(theta, o) >= u(theta, o_prime) for o_prime in X):\n",
    "            current_value = g(theta, o)\n",
    "            if current_value > max_value:\n",
    "                max_value = current_value\n",
    "                max_element = o\n",
    "    \n",
    "    return max_element\n"
   ]
  },
  {
   "cell_type": "markdown",
   "metadata": {},
   "source": [
    "$\n",
    "v \\longrightarrow v(X)\n",
    "$ "
   ]
  },
  {
   "cell_type": "code",
   "execution_count": 74,
   "metadata": {},
   "outputs": [],
   "source": [
    "def v_X(X, Theta, p, g, u):\n",
    "    \"\"\"\n",
    "    This function computes the value of v(X) given by:\n",
    "    sum_{theta in Theta} p(theta) * g(theta, o_X(theta))\n",
    "    \n",
    "    :param X: List of elements\n",
    "    :param Theta: List of possible values for theta\n",
    "    :param p: Probability distribution function over Theta\n",
    "    :param g: Function g(theta, o)\n",
    "    :param u: Function u(theta, o)\n",
    "    \n",
    "    :return: The computed value of v(X)\n",
    "    \"\"\"\n",
    "    # Compute the sum\n",
    "    v = sum(p(theta) * g(theta, o_X(theta, X, g, u)) for theta in Theta)\n",
    "    \n",
    "    return v"
   ]
  },
  {
   "cell_type": "markdown",
   "metadata": {},
   "source": [
    "$\n",
    "o_{X,Y} \\longrightarrow o_{X,Y} (\\theta)\n",
    "$"
   ]
  },
  {
   "cell_type": "code",
   "execution_count": 75,
   "metadata": {},
   "outputs": [],
   "source": [
    "def o_XY(theta, X, Y, O, g, u):\n",
    "    \"\"\"\n",
    "    This function returns the element o in X that maximizes g(theta, o) \n",
    "    subject to the condition that u(theta, o) >= u(theta, o') for all o' in X.\n",
    "    \n",
    "    :param g: Function g(θ, o)\n",
    "    :param X: List of elements\n",
    "    :param u: Function u(θ, o)\n",
    "    :param theta: Parameter θ\n",
    "    \n",
    "    :return: The element in X that maximizes g(θ, o) under the given condition\n",
    "    \"\"\"\n",
    "    # Finding the element that satisfies the condition on u and maximizes g\n",
    "    max_element = None\n",
    "    max_value = float('-inf')\n",
    "\n",
    "    # Convert elements of O and Y to tuples for comparison\n",
    "    O_tuples = [tuple(o) for o in O]\n",
    "    Y_tuples = [tuple(y) for y in Y]\n",
    "    # Compute the difference using list comprehension\n",
    "    O_minus_Y = [list(o) for o in O_tuples if o not in Y_tuples]\n",
    "    \n",
    "    for o in O_minus_Y: \n",
    "        if all(u(theta, o) >= u(theta, o_prime) for o_prime in X):\n",
    "            current_value = g(theta, o)\n",
    "            if current_value > max_value:\n",
    "                max_value = current_value\n",
    "                max_element = o\n",
    "    \n",
    "    return max_element\n"
   ]
  },
  {
   "cell_type": "markdown",
   "metadata": {},
   "source": [
    "$\n",
    "v_{XY} \n",
    "$"
   ]
  },
  {
   "cell_type": "code",
   "execution_count": 76,
   "metadata": {},
   "outputs": [],
   "source": [
    "def v_XY(X, Y, O, Theta, p, g, u):\n",
    "    \"\"\"\n",
    "    This function computes the value of v(X) given by:\n",
    "    sum_{theta in Theta} p(theta) * g(theta, o_X(theta))\n",
    "    \n",
    "    :param X: List of elements\n",
    "    :param Theta: List of possible values for theta\n",
    "    :param p: Probability distribution function over Theta\n",
    "    :param g: Function g(theta, o)\n",
    "    :param u: Function u(theta, o)\n",
    "    \n",
    "    :return: The computed value of v(X)\n",
    "    \"\"\"\n",
    "    # Compute the sum\n",
    "    v = sum(p(theta) * g(theta, o_XY(theta, X, Y, O,  g, u)) for theta in Theta)\n",
    "    \n",
    "    return v"
   ]
  },
  {
   "cell_type": "markdown",
   "metadata": {},
   "source": [
    "# Brench and bound deep search"
   ]
  },
  {
   "cell_type": "code",
   "execution_count": 77,
   "metadata": {},
   "outputs": [],
   "source": [
    "class SearchAlgorithm:\n",
    "    def __init__(self, O, Theta, p, o_XY, v_XY, g, u, L = float('-inf'), CB = set()):\n",
    "        \"\"\"\n",
    "        Initialize the SearchAlgorithm object.\n",
    "        \"\"\"\n",
    "        self.O = O\n",
    "        self.n = len(O) - 1 # check that \n",
    "        self.Theta = Theta\n",
    "        self.p = p\n",
    "        self.o_XY = o_XY\n",
    "        self.v_XY = v_XY\n",
    "        self.g = g\n",
    "        self.u = u\n",
    "        self.L = L\n",
    "        self.CB = CB\n",
    "\n",
    "    def search1(self, X, Y, v, d):\n",
    "        \"\"\"\n",
    "        Perform the SEARCH1 algorithm.\n",
    "        \"\"\"\n",
    "        if d == self.n + 1: # end of the tree\n",
    "            self.CB = X # update the current best X solution (here there is not the check that the best solution is better than the current one. No problem, it there is one before calling the function search)\n",
    "            self.L = v # update the current best value of X\n",
    "        else:            \n",
    "            if self.v_XY(union_listOflists_list(X,self.O[d]), Y, self.O, self.Theta, self.p, self.g, self.u) > self.L:\n",
    "                self.search1(union_listOflists_list(X,self.O[d]), Y, self.v_XY(union_listOflists_list(X,self.O[d]), Y, self.O, self.Theta, self.p, self.g, self.u), d + 1)\n",
    "\n",
    "            if self.v_XY(X, union_listOflists_list(Y,self.O[d]), self.O, self.Theta, self.p, self.g, self.u) > self.L:\n",
    "                self.search1(X,union_listOflists_list(Y,self.O[d]), self.v_XY(X, union_listOflists_list(Y,self.O[d]), self.O, self.Theta, self.p, self.g, self.u), d + 1)          \n"
   ]
  },
  {
   "cell_type": "code",
   "execution_count": 78,
   "metadata": {},
   "outputs": [],
   "source": [
    "def branch_and_bound_ds(O, Theta, p, o_XY, v_XY, g, u):\n",
    "    start_time = time.time()  # Record the start time\n",
    "\n",
    "    CB = None # initilize the current best solution\n",
    "    L = float('-inf')\n",
    "    \n",
    "    SearchAlgorithm_instance = SearchAlgorithm(O, Theta, p, o_XY, v_XY, g, u, L, CB)\n",
    "    SearchAlgorithm_instance.search1([], [], 0, 1)\n",
    "    CB = SearchAlgorithm_instance.CB\n",
    "\n",
    "    end_time = time.time()  # Record the end time\n",
    "    elapsed_time = end_time - start_time  # Calculate the elapsed time\n",
    "\n",
    "    return CB, round(elapsed_time,2)"
   ]
  },
  {
   "cell_type": "markdown",
   "metadata": {},
   "source": [
    "# Application "
   ]
  },
  {
   "cell_type": "markdown",
   "metadata": {},
   "source": [
    "## 1: No IR - exp 1 and exp2"
   ]
  },
  {
   "cell_type": "markdown",
   "metadata": {},
   "source": [
    "Classes"
   ]
  },
  {
   "cell_type": "code",
   "execution_count": 79,
   "metadata": {},
   "outputs": [],
   "source": [
    "class g_class:\n",
    "    def __init__(self, Theta, O, minimum_value = 0, maximum_value = 100):\n",
    "        self.Theta = Theta  # A list of elements in Theta\n",
    "        self.O = O          # A list of lists\n",
    "        self.values = {}\n",
    "        for theta in Theta:\n",
    "            for o in O:\n",
    "                o_tuple = tuple(o)  # Convert the list o to a tuple for dictionary key\n",
    "                self.values[(theta, o_tuple)] = random.randint(minimum_value, maximum_value)\n",
    "\n",
    "    def g(self, theta, o):\n",
    "        o_tuple = tuple(o)  # Convert the list o to a tuple for lookup\n",
    "        if (theta, o_tuple) in self.values:\n",
    "            return self.values[(theta, o_tuple)]\n",
    "        else:\n",
    "            raise ValueError(\"The given theta and o pair is not in the initialized set.\")\n"
   ]
  },
  {
   "cell_type": "code",
   "execution_count": 80,
   "metadata": {},
   "outputs": [],
   "source": [
    "class u_class:\n",
    "    def __init__(self, Theta, O, minimum_value = 0, maximum_value = 100):\n",
    "        self.Theta = Theta  # A list of elements in Theta\n",
    "        self.O = O          # A list of lists\n",
    "        self.values = {}\n",
    "        for theta in Theta:\n",
    "            for o in O:\n",
    "                o_tuple = tuple(o)  # Convert the list o to a tuple for dictionary key\n",
    "                self.values[(theta, o_tuple)] = random.randint(minimum_value, maximum_value)\n",
    "\n",
    "    def u(self, theta, o):\n",
    "        o_tuple = tuple(o)  # Convert the list o to a tuple for lookup\n",
    "        if (theta, o_tuple) in self.values:\n",
    "            return self.values[(theta, o_tuple)]\n",
    "        else:\n",
    "            raise ValueError(\"The given theta and o pair is not in the initialized set.\")"
   ]
  },
  {
   "cell_type": "markdown",
   "metadata": {},
   "source": [
    "Check IR constraint"
   ]
  },
  {
   "cell_type": "code",
   "execution_count": 81,
   "metadata": {},
   "outputs": [
    {
     "name": "stdout",
     "output_type": "stream",
     "text": [
      "True\n"
     ]
    }
   ],
   "source": [
    "# It checks if, for all theta in Theta, there is at least one o in O s.t. u(theta, o) >= 0\n",
    "# If the above condition is true, it returns True, otherwise False\n",
    "def check_IR(Theta, X, u):\n",
    "    check_list = [False for _ in range(len(X))]\n",
    "    for theta in Theta:\n",
    "        i = 0\n",
    "        for o in X:\n",
    "            if u(theta, o) >= 0:\n",
    "                check_list[i] = True\n",
    "            i += 1\n",
    "    return all(check_list)\n",
    "\n",
    "\n",
    "# An example \n",
    "O = [[i] for i in range(10)]\n",
    "X_bar = random.sample(O, 5)\n",
    "Theta = [i for i in range(20)] # theta in Theta is just the type of the agent (so, g will be indepedent form theta)\n",
    "p = lambda theta: 1/len(Theta)\n",
    "g_instance = g_class(Theta, O, minimum_value=-50, maximum_value=5)\n",
    "u_instance = u_class(Theta, O, minimum_value=-50, maximum_value=5) \n",
    "print(\n",
    "    check_IR(Theta=Theta, X=X_bar, u=u_instance.u)\n",
    "    )"
   ]
  },
  {
   "cell_type": "markdown",
   "metadata": {},
   "source": [
    "An instance"
   ]
  },
  {
   "cell_type": "code",
   "execution_count": 82,
   "metadata": {},
   "outputs": [],
   "source": [
    "# An instance\n",
    "O = [[i] for i in range(20)]\n",
    "Theta = [i for i in range(10)] # theta in Theta is just the type of the agent (so, g will be indepedent form theta)\n",
    "p = lambda theta: 1/len(Theta)\n",
    "g_instance = g_class(Theta, O, minimum_value=0, maximum_value=100)\n",
    "u_instance = u_class(Theta, O, minimum_value=0, maximum_value=100) \n"
   ]
  },
  {
   "cell_type": "markdown",
   "metadata": {},
   "source": [
    "Find X"
   ]
  },
  {
   "cell_type": "code",
   "execution_count": 83,
   "metadata": {},
   "outputs": [
    {
     "name": "stdout",
     "output_type": "stream",
     "text": [
      "Check IR for the model True\n",
      "Check IR for the semi-rnd True\n",
      "\n",
      "Elapsed time =  1.79\n",
      "Model X = [[12], [18], [2], [15], [11], [8], [14], [4], [17], [19], [9]]\n",
      "Semi random model X =  [[12], [14], [5], [1], [3], [0], [10], [2], [11], [13], [16]]\n",
      "\n",
      "Model vX value  82.9\n",
      "Semi random model vX value  54.4\n",
      "Relative improvement of the model  34.38  %\n"
     ]
    }
   ],
   "source": [
    "def find_X(O, Theta, p, o_XY, v_XY, g_instance, u_instance):\n",
    "    CB, elapsed_time = branch_and_bound_ds(O, Theta, p, o_XY, v_XY, g_instance.g, u_instance.u)\n",
    "    model_vX_value = v_X(CB, Theta, p, g_instance.g, u_instance.u)\n",
    "\n",
    "    semi_random_CB = random.sample(O, len(CB))\n",
    "    semi_random_vX_value = v_X(semi_random_CB, Theta, p, g_instance.g, u_instance.u)\n",
    "    if model_vX_value != 0:\n",
    "        model_vs_rand = round((model_vX_value-semi_random_vX_value)/model_vX_value * 100,2)\n",
    "    else:\n",
    "        model_vs_rand = None\n",
    "\n",
    "    return CB, round(model_vX_value,2), elapsed_time, semi_random_CB, round(semi_random_vX_value,2), model_vs_rand\n",
    "\n",
    "CB, model_vX_value, elapsed_time, semi_random_CB, semi_random_vX_value, model_vs_rand = find_X(O, Theta, p, o_XY, v_XY, g_instance, u_instance)\n",
    "\n",
    "print(\"Check IR for the model\", check_IR(Theta=Theta, X=CB, u=u_instance.u))\n",
    "print(\"Check IR for the semi-rnd\", check_IR(Theta=Theta, X=semi_random_CB, u=u_instance.u))\n",
    "      \n",
    "print(\"\\nElapsed time = \", elapsed_time)\n",
    "print(\"Model X =\", CB)\n",
    "print(\"Semi random model X = \",semi_random_CB)\n",
    "print(\"\\nModel vX value \", model_vX_value)\n",
    "print(\"Semi random model vX value \", semi_random_vX_value)\n",
    "print(\"Relative improvement of the model \", model_vs_rand,\" %\")"
   ]
  },
  {
   "cell_type": "markdown",
   "metadata": {},
   "source": [
    "Check g and u of the mean of all the types "
   ]
  },
  {
   "cell_type": "code",
   "execution_count": 84,
   "metadata": {},
   "outputs": [
    {
     "name": "stdout",
     "output_type": "stream",
     "text": [
      "         g   u\n",
      "model    82.9 88.6\n",
      "semi rnd 54.4 92.0\n"
     ]
    }
   ],
   "source": [
    "# Check the model on a single type\n",
    "\n",
    "def check_model_results(CB, g_instance, u_instance, Theta, semi_random_CB):\n",
    "    outcomeForAllThetas_model = [o_X(theta = theta, X = CB, g = g_instance.g, u = u_instance.u) for theta in Theta]\n",
    "    gForAllOutcomes_model = [g_instance.g(theta=theta, o=o_model) for theta, o_model in zip(Theta, outcomeForAllThetas_model)]\n",
    "    uForAllOutcomes_model = [u_instance.u(theta=theta, o=o_model) for theta, o_model in zip(Theta, outcomeForAllThetas_model)]\n",
    "\n",
    "    outcomeForAllThetas_semiRandom = [o_X(theta = theta, X = semi_random_CB, g = g_instance.g, u = u_instance.u) for theta in Theta]\n",
    "    gForAllOutcomes_semiRandom = [g_instance.g(theta=theta, o=o_semiRandom) for theta, o_semiRandom in zip(Theta, outcomeForAllThetas_semiRandom)]\n",
    "    uForAllOutcomes_semiRandom = [u_instance.u(theta=theta, o=o_semiRandom) for theta, o_semiRandom in zip(Theta, outcomeForAllThetas_semiRandom)]\n",
    "\n",
    "    return gForAllOutcomes_model, uForAllOutcomes_model, gForAllOutcomes_semiRandom, uForAllOutcomes_semiRandom\n",
    "\n",
    "\n",
    "\n",
    "gForAllOutcomes_model, uForAllOutcomes_model, gForAllOutcomes_semiRandom, uForAllOutcomes_semiRandom = check_model_results(CB, g_instance, u_instance, Theta, semi_random_CB)\n",
    "\n",
    "print(\"        \",\"g  \", \"u\")\n",
    "print(\"model   \", round(np.mean(gForAllOutcomes_model),2), round(np.mean(uForAllOutcomes_model),2))\n",
    "print(\"semi rnd\", round(np.mean(gForAllOutcomes_semiRandom),2), round(np.mean(uForAllOutcomes_semiRandom),2))"
   ]
  },
  {
   "cell_type": "markdown",
   "metadata": {},
   "source": [
    "## 2 - IR: exp 1 and exp 2"
   ]
  },
  {
   "cell_type": "markdown",
   "metadata": {},
   "source": [
    "An instance"
   ]
  },
  {
   "cell_type": "code",
   "execution_count": 85,
   "metadata": {},
   "outputs": [],
   "source": [
    "# An instance\n",
    "O = [[i] for i in range(10)]\n",
    "Theta = [i for i in range(20)] # theta in Theta is just the type of the agent (so, g will be indepedent form theta)\n",
    "p = lambda theta: 1/len(Theta)\n",
    "g_instance = g_class(Theta, O, minimum_value=-50, maximum_value=50)\n",
    "u_instance = u_class(Theta, O, minimum_value=-50, maximum_value=50) \n"
   ]
  },
  {
   "cell_type": "markdown",
   "metadata": {},
   "source": [
    "Find X"
   ]
  },
  {
   "cell_type": "code",
   "execution_count": 86,
   "metadata": {},
   "outputs": [
    {
     "name": "stdout",
     "output_type": "stream",
     "text": [
      "Check IR for the model True\n",
      "Check IR for the semi-rnd True\n",
      "\n",
      "Elapsed time =  0.31\n",
      "Model X = [[2], [3]]\n",
      "Semi random model X =  [[8], [5]]\n",
      "\n",
      "Model vX value  12.2\n",
      "Semi random model vX value  -9.95\n",
      "Relative improvement of the model  181.56  %\n"
     ]
    }
   ],
   "source": [
    "CB, model_vX_value, elapsed_time, semi_random_CB, semi_random_vX_value, model_vs_rand  = find_X(O, Theta, p, o_XY, v_XY, g_instance, u_instance)\n",
    "\n",
    "print(\"Check IR for the model\", check_IR(Theta=Theta, X=CB, u=u_instance.u))\n",
    "print(\"Check IR for the semi-rnd\", check_IR(Theta=Theta, X=semi_random_CB, u=u_instance.u))\n",
    "print(\"\\nElapsed time = \", elapsed_time)\n",
    "print(\"Model X =\", CB)\n",
    "print(\"Semi random model X = \",semi_random_CB)\n",
    "print(\"\\nModel vX value \", model_vX_value)\n",
    "print(\"Semi random model vX value \", semi_random_vX_value)\n",
    "print(\"Relative improvement of the model \", model_vs_rand,\" %\")"
   ]
  },
  {
   "cell_type": "markdown",
   "metadata": {},
   "source": [
    "Check g and u of the mean of all the types "
   ]
  },
  {
   "cell_type": "code",
   "execution_count": 87,
   "metadata": {},
   "outputs": [
    {
     "name": "stdout",
     "output_type": "stream",
     "text": [
      "         g   u\n",
      "model    12.2 16.45\n",
      "semi rnd -9.95 17.6\n"
     ]
    }
   ],
   "source": [
    "# Check g and u\n",
    "gForAllOutcomes_model, uForAllOutcomes_model, gForAllOutcomes_semiRandom, uForAllOutcomes_semiRandom = check_model_results(CB, g_instance, u_instance, Theta, semi_random_CB)\n",
    "\n",
    "print(\"        \",\"g  \", \"u\")\n",
    "print(\"model   \", round(np.mean(gForAllOutcomes_model),2), round(np.mean(uForAllOutcomes_model),2))\n",
    "print(\"semi rnd\", round(np.mean(gForAllOutcomes_semiRandom),2), round(np.mean(uForAllOutcomes_semiRandom),2))"
   ]
  },
  {
   "cell_type": "markdown",
   "metadata": {},
   "source": [
    "## 3 - Bartering"
   ]
  },
  {
   "cell_type": "code",
   "execution_count": 88,
   "metadata": {},
   "outputs": [],
   "source": [
    "class g_bartering_class:\n",
    "    def __init__(self, Theta, O, minimum_value = 0, maximum_value = 10):\n",
    "        self.Theta = Theta  # A list of elements in Theta\n",
    "        self.O = O          # A list of lists\n",
    "        self.values = {}\n",
    "        self.outcome_size = len(O[0])\n",
    "        for i in range(self.outcome_size):\n",
    "            self.values[(i)] = random.randint(minimum_value, maximum_value)\n",
    "\n",
    "    def g(self,theta, o): # in this specific case, g is indepenedent from theta\n",
    "        return sum(self.values[i]*(1-o[i]) for i in range(self.outcome_size)) # o[i] = 0 if designer took the item i, 1 otherwise\n"
   ]
  },
  {
   "cell_type": "code",
   "execution_count": 89,
   "metadata": {},
   "outputs": [],
   "source": [
    "class u_bartering_class:\n",
    "    def __init__(self, Theta, O, minimum_value = 0, maximum_value = 10):\n",
    "        self.Theta = Theta  # A list of elements in Theta\n",
    "        self.O = O          # A list of lists\n",
    "        self.values = {}\n",
    "        self.outcome_size = len(O[0])\n",
    "        for theta in Theta:\n",
    "            for i in range(self.outcome_size):\n",
    "                self.values[(theta, i)] = random.randint(minimum_value, maximum_value)\n",
    "\n",
    "    def u(self, theta, o):\n",
    "        return sum(self.values[(theta,i)]*(o[i]) for i in range(self.outcome_size)) # o[i] = 1 if agent took the item i, 0 otherwise\n"
   ]
  },
  {
   "cell_type": "markdown",
   "metadata": {},
   "source": [
    "An instance "
   ]
  },
  {
   "cell_type": "code",
   "execution_count": 90,
   "metadata": {},
   "outputs": [],
   "source": [
    "# An instance\n",
    "number_of_items = 10\n",
    "number_of_outcomes = 20\n",
    "number_of_types = 5\n",
    "minimum_value = 0 # try -5\n",
    "maximum_value = 10 # try 5\n",
    "\n",
    "\n",
    "all_possible_outcomes = list(itertools.product([0, 1], repeat=number_of_items))\n",
    "O = random.sample(all_possible_outcomes, number_of_outcomes)\n",
    "Theta = [i for i in range(number_of_types)] # theta in Theta is just the type of the agent (so, g will be indepedent form theta)\n",
    "p = lambda theta: 1/len(Theta)\n",
    "g_instance = g_bartering_class(Theta, O, minimum_value=minimum_value, maximum_value=maximum_value)\n",
    "u_instance = u_bartering_class(Theta, O, minimum_value=minimum_value, maximum_value=maximum_value) \n"
   ]
  },
  {
   "cell_type": "markdown",
   "metadata": {},
   "source": [
    "Find X"
   ]
  },
  {
   "cell_type": "code",
   "execution_count": 91,
   "metadata": {},
   "outputs": [
    {
     "name": "stdout",
     "output_type": "stream",
     "text": [
      "Check IR for the model True\n",
      "Check IR for the semi-rnd True\n",
      "\n",
      "Elapsed time =  3.2\n",
      "Model X = [[0, 0, 0, 0, 0, 0, 0, 0, 1, 1]]\n",
      "Semi random model X =  [(1, 0, 1, 1, 0, 0, 1, 1, 0, 1)]\n",
      "\n",
      "Model vX value  36.0\n",
      "Semi random model vX value  17.0\n",
      "Relative improvement of the model  52.78  %\n"
     ]
    }
   ],
   "source": [
    "CB, model_vX_value, elapsed_time, semi_random_CB, semi_random_vX_value, model_vs_rand = find_X(O, Theta, p, o_XY, v_XY, g_instance, u_instance)\n",
    "\n",
    "print(\"Check IR for the model\", check_IR(Theta=Theta, X=CB, u=u_instance.u))\n",
    "print(\"Check IR for the semi-rnd\", check_IR(Theta=Theta, X=semi_random_CB, u=u_instance.u))\n",
    "print(\"\\nElapsed time = \", elapsed_time)\n",
    "print(\"Model X =\", CB)\n",
    "print(\"Semi random model X = \",semi_random_CB)\n",
    "print(\"\\nModel vX value \", model_vX_value)\n",
    "print(\"Semi random model vX value \", semi_random_vX_value)\n",
    "print(\"Relative improvement of the model \", model_vs_rand,\" %\")"
   ]
  },
  {
   "cell_type": "markdown",
   "metadata": {},
   "source": [
    "Check g and u on the mean if all possible theta"
   ]
  },
  {
   "cell_type": "code",
   "execution_count": 92,
   "metadata": {},
   "outputs": [
    {
     "name": "stdout",
     "output_type": "stream",
     "text": [
      "         g   u\n",
      "model    36.0 10.0\n",
      "semi rnd 17.0 33.2\n"
     ]
    }
   ],
   "source": [
    "# Check g and u\n",
    "gForAllOutcomes_model, uForAllOutcomes_model, gForAllOutcomes_semiRandom, uForAllOutcomes_semiRandom = check_model_results(CB, g_instance, u_instance, Theta, semi_random_CB)\n",
    "\n",
    "print(\"        \",\"g  \", \"u\")\n",
    "print(\"model   \", round(np.mean(gForAllOutcomes_model),2), round(np.mean(uForAllOutcomes_model),2))\n",
    "print(\"semi rnd\", round(np.mean(gForAllOutcomes_semiRandom),2), round(np.mean(uForAllOutcomes_semiRandom),2))"
   ]
  },
  {
   "cell_type": "markdown",
   "metadata": {},
   "source": [
    "# Extra things\n",
    "\n",
    "## Another utility tipe for the bartering problem "
   ]
  },
  {
   "cell_type": "code",
   "execution_count": 93,
   "metadata": {},
   "outputs": [],
   "source": [
    "class g_bartering_class_difference:\n",
    "    def __init__(self, Theta, O, minimum_value = 0, maximum_value = 10, initial_goods = None):\n",
    "        self.Theta = Theta  # A list of elements in Theta\n",
    "        self.O = O          # A list of lists\n",
    "        self.values = {}\n",
    "        self.outcome_size = len(O[0])\n",
    "        self.initial_goods = initial_goods\n",
    "        for i in range(self.outcome_size):\n",
    "            self.values[(i)] = random.randint(minimum_value, maximum_value)\n",
    "        self.initial_values = sum(self.values[i]*(1-self.initial_goods[i]) for i in range(self.outcome_size))\n",
    "        \n",
    "    def g(self,theta, o): # in this specific case, g is indepenedent from theta\n",
    "        current_value = sum(self.values[i]*(1-o[i]) for i in range(self.outcome_size)) \n",
    "        return current_value - self.initial_values \n"
   ]
  },
  {
   "cell_type": "code",
   "execution_count": 94,
   "metadata": {},
   "outputs": [],
   "source": [
    "class u_bartering_class_difference:\n",
    "    def __init__(self, Theta, O, minimum_value = 0, maximum_value = 10, initial_goods = None):\n",
    "        self.Theta = Theta  # A list of elements in Theta\n",
    "        self.O = O          # A list of lists\n",
    "        self.values = {}\n",
    "        self.initial_values = {}\n",
    "        self.outcome_size = len(O[0])\n",
    "        self.initial_goods = initial_goods  \n",
    "        for theta in Theta:\n",
    "            for i in range(self.outcome_size):\n",
    "                self.values[(theta, i)] = random.randint(minimum_value, maximum_value)\n",
    "        for theta in Theta:\n",
    "            self.initial_values[theta] = sum(self.values[(theta,i)]*(self.initial_goods[i]) for i in range(self.outcome_size))\n",
    "\n",
    "    def u(self, theta, o):\n",
    "        current_value = sum(self.values[(theta,i)]*(o[i]) for i in range(self.outcome_size)) # o[i] = 1 if agent took the item i, 0 otherwise\n",
    "        return current_value - self.initial_values[theta]\n"
   ]
  },
  {
   "cell_type": "code",
   "execution_count": 95,
   "metadata": {},
   "outputs": [],
   "source": [
    "# An instance\n",
    "number_of_items = 8\n",
    "number_of_outcomes = 30\n",
    "number_of_types = 5\n",
    "minimum_value = 0 # with [0,10] the IR constraint is mainly = False \n",
    "maximum_value = 10\n",
    "\n",
    "all_possible_outcomes = list(itertools.product([0, 1], repeat=number_of_items))\n",
    "O = random.sample(all_possible_outcomes, number_of_outcomes)\n",
    "initial_goods = random.choice(O)\n",
    "Theta = [i for i in range(number_of_types)] # theta in Theta is just the type of the agent (so, g will be indepedent form theta)\n",
    "p = lambda theta: 1/len(Theta)\n",
    "g_instance = g_bartering_class_difference(Theta, O, minimum_value=minimum_value, maximum_value=maximum_value, initial_goods=initial_goods)\n",
    "u_instance = u_bartering_class_difference(Theta, O, minimum_value=minimum_value, maximum_value=maximum_value, initial_goods=initial_goods) \n",
    "\n"
   ]
  },
  {
   "cell_type": "code",
   "execution_count": 96,
   "metadata": {},
   "outputs": [
    {
     "name": "stdout",
     "output_type": "stream",
     "text": [
      "Check IR for the model False\n",
      "Check IR for the semi-rnd False\n",
      "\n",
      "Elapsed time =  15.83\n",
      "Model X = [[1, 0, 0, 0, 1, 0, 0, 0], [0, 0, 0, 1, 0, 0, 0, 1], [1, 0, 0, 0, 1, 1, 0, 0]]\n",
      "Semi random model X =  [(1, 1, 0, 0, 1, 0, 0, 0), (0, 1, 0, 0, 1, 1, 1, 1), (1, 0, 1, 0, 1, 1, 1, 0)]\n",
      "\n",
      "Model vX value  44.0\n",
      "Semi random model vX value  21.4\n",
      "Relative improvement of the model  51.36  %\n"
     ]
    }
   ],
   "source": [
    "CB, model_vX_value, elapsed_time, semi_random_CB, semi_random_vX_value, model_vs_rand = find_X(O, Theta, p, o_XY, v_XY, g_instance, u_instance)\n",
    "\n",
    "print(\"Check IR for the model\", check_IR(Theta=Theta, X=CB, u=u_instance.u))\n",
    "print(\"Check IR for the semi-rnd\", check_IR(Theta=Theta, X=semi_random_CB, u=u_instance.u))\n",
    "print(\"\\nElapsed time = \", elapsed_time)\n",
    "print(\"Model X =\", CB)\n",
    "print(\"Semi random model X = \",semi_random_CB)\n",
    "print(\"\\nModel vX value \", model_vX_value)\n",
    "print(\"Semi random model vX value \", semi_random_vX_value)\n",
    "print(\"Relative improvement of the model \", model_vs_rand,\" %\")"
   ]
  },
  {
   "cell_type": "code",
   "execution_count": 97,
   "metadata": {},
   "outputs": [
    {
     "name": "stdout",
     "output_type": "stream",
     "text": [
      "         g   u\n",
      "model    44.0 -26.4\n",
      "semi rnd 21.4 -10.8\n"
     ]
    }
   ],
   "source": [
    "# Check g and u\n",
    "gForAllOutcomes_model, uForAllOutcomes_model, gForAllOutcomes_semiRandom, uForAllOutcomes_semiRandom = check_model_results(CB, g_instance, u_instance, Theta, semi_random_CB)\n",
    "\n",
    "print(\"        \",\"g  \", \"u\")\n",
    "print(\"model   \", round(np.mean(gForAllOutcomes_model),2), round(np.mean(uForAllOutcomes_model),2))\n",
    "print(\"semi rnd\", round(np.mean(gForAllOutcomes_semiRandom),2), round(np.mean(uForAllOutcomes_semiRandom),2))\n"
   ]
  },
  {
   "cell_type": "markdown",
   "metadata": {},
   "source": [
    "### The IR constraint \n",
    "The experiment with the bartering problem where the utility and the objective are the difference from the initial values of the goods and the final one could be harder, because we are sure there exist cases with a negative utility/objective. \n",
    "While, this could not happen in the case where the utiliy is the sum of the values of the goods and the values are all non negative.\n",
    "\n",
    "I did some experiments with a configuration I typically used in the previous cases. The brench and bound model with had a v_x really better then the random model. \n",
    "However, I got a bad result. \n",
    "I saw that, altough the objective was very high, the mean of the utilities was negative. \n",
    "In that case, the model makes no sense, beacuse anyone would choose to play against a designer who make you a negative utility at the end of the game (it means that the agent values the goods that it has at the end less then the goods that it had at th beginning). \n",
    "\n",
    "So that, I checked the IR constraint and I was that it was not respected. \n",
    "It makes sense, beacuse there is a Lemma that asserts that $o_X$ is IR if and only for all types $theta$ exists an outcome $o \\in O$ s.t. the utility is non-negative.\n",
    "\n",
    "Then, I changed instance of the problem in terms of parameter. \n",
    "Expecially, I increase as more as my PC allowed me (in terms of computation time) the size of the outcome, in order to increase the probbility that this constraint holds. \n",
    "Finally, I get an instance where the IR constraint holds and that was the result: a positive utility!\n",
    "So, the model could be used. \n",
    "Moreover, it improve the objective very well.\n",
    "\n",
    "\n",
    "With the following configuration\n",
    "```python\n",
    "number_of_items = 10\n",
    "number_of_outcomes = 30\n",
    "number_of_types = 1\n",
    "minimum_value = 0 \n",
    "maximum_value = 10\n",
    "```\n",
    "the IR constraint holds indeed we get \n",
    "```\n",
    "Check IR for the model True\n",
    "Check IR for the semi-rnd True\n",
    "\n",
    "Elapsed time =  0.58\n",
    "Model X = [[0, 1, 1, 1, 0, 0, 0, 1, 0, 1], [0, 0, 0, 0, 0, 1, 1, 1, 1, 0], [0, 1, 1, 0, 1, 0, 0, 0, 1, 0], [0, 1, 1, 1, 1, 1, 0, 0, 0, 0], [0, 0, 1, 0, 1, 1, 0, 0, 0, 1], [0, 1, 0, 0, 1, 1, 1, 0, 1, 0], [0, 0, 0, 0, 1, 1, 0, 0, 1, 1], [0, 1, 0, 0, 0, 0, 1, 0, 1, 1]]\n",
    "Semi random model X =  [(1, 1, 0, 0, 0, 1, 1, 0, 1, 0), (0, 1, 1, 0, 0, 0, 1, 1, 1, 0), (0, 1, 0, 0, 1, 1, 1, 0, 1, 0), (0, 0, 1, 0, 1, 1, 0, 0, 0, 1), (0, 1, 0, 0, 1, 0, 0, 1, 1, 1), (0, 0, 0, 1, 1, 0, 0, 1, 1, 1), (1, 0, 1, 1, 1, 1, 0, 1, 1, 0), (1, 1, 0, 1, 1, 0, 0, 0, 0, 0)]\n",
    "\n",
    "Model vX value  16.0\n",
    "Semi random model vX value  -9.0\n",
    "Relative improvement of the model  156.25  %\n",
    "```\n",
    "and values \n",
    "```\n",
    "         g   u\n",
    "model    16.0 4.0\n",
    "semi rnd -9.0 23.0\n",
    "```\n",
    "\n"
   ]
  }
 ],
 "metadata": {
  "kernelspec": {
   "display_name": "base",
   "language": "python",
   "name": "python3"
  },
  "language_info": {
   "codemirror_mode": {
    "name": "ipython",
    "version": 3
   },
   "file_extension": ".py",
   "mimetype": "text/x-python",
   "name": "python",
   "nbconvert_exporter": "python",
   "pygments_lexer": "ipython3",
   "version": "3.11.1"
  }
 },
 "nbformat": 4,
 "nbformat_minor": 2
}
