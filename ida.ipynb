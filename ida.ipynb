{
 "cells": [
  {
   "cell_type": "markdown",
   "metadata": {},
   "source": [
    "# MAS - project \n",
    "\n",
    "# IDA*"
   ]
  },
  {
   "cell_type": "code",
   "execution_count": 10,
   "metadata": {},
   "outputs": [],
   "source": [
    "import random\n",
    "import numpy as np\n",
    "import itertools\n",
    "import time\n",
    "import amd_project_functions as amd"
   ]
  },
  {
   "cell_type": "code",
   "execution_count": 11,
   "metadata": {},
   "outputs": [],
   "source": [
    "class IDA_SearchAlgorithm:\n",
    "    def __init__(self, O, Theta, p, o_XY, v_XY, g, u, L_initial_limit, CB = None, L_reduction = 0.1):\n",
    "        \"\"\"\n",
    "        Initialize the IDA object.\n",
    "        \"\"\"\n",
    "        self.O = O\n",
    "        self.n = len(O) - 1 \n",
    "        self.Theta = Theta\n",
    "        self.p = p\n",
    "        self.o_XY = o_XY\n",
    "        self.v_XY = v_XY\n",
    "        self.g = g\n",
    "        self.u = u\n",
    "        self.L = L_initial_limit\n",
    "        self.CB = CB\n",
    "        self.HF = -np.inf # different from the serach alg\n",
    "        self.L_reduction = L_reduction # different from the serach alg\n",
    "\n",
    "    def search2(self, X, Y, v, d):\n",
    "        \"\"\"\n",
    "        Perform the SEARCH2 algorithm.\n",
    "        \"\"\"\n",
    "        if d == self.n + 1: # end of the tree\n",
    "            self.CB = X # update the current best X solution (here there is not the check that the best solution is better than the current one. No problem, it there is one before calling the function search)\n",
    "            self.L = v # update the current best value of X \n",
    "        else:            \n",
    "            if self.v_XY(amd.union_listOflists_list(X,self.O[d]), Y, self.O, self.Theta, self.p, self.g, self.u) > self.L:\n",
    "                self.search2(amd.union_listOflists_list(X,self.O[d]), Y, self.v_XY(amd.union_listOflists_list(X,self.O[d]), Y, self.O, self.Theta, self.p, self.g, self.u), d + 1)\n",
    "            elif self.v_XY(amd.union_listOflists_list(X,self.O[d]), Y, self.O, self.Theta, self.p, self.g, self.u) > self.HF:\n",
    "                self.HF = self.v_XY(amd.union_listOflists_list(X,self.O[d]), Y, self.O, self.Theta, self.p, self.g, self.u)\n",
    "\n",
    "            if self.v_XY(X, amd.union_listOflists_list(Y,self.O[d]), self.O, self.Theta, self.p, self.g, self.u) > self.L:\n",
    "                self.search2(X,amd.union_listOflists_list(Y,self.O[d]), self.v_XY(X, amd.union_listOflists_list(Y,self.O[d]), self.O, self.Theta, self.p, self.g, self.u), d + 1)          \n",
    "            elif self.v_XY(X, amd.union_listOflists_list(Y,self.O[d]), self.O, self.Theta, self.p, self.g, self.u) > self.HF:\n",
    "                self.HF = self.v_XY(X, amd.union_listOflists_list(Y,self.O[d]), self.O, self.Theta, self.p, self.g, self.u) "
   ]
  },
  {
   "cell_type": "code",
   "execution_count": 12,
   "metadata": {},
   "outputs": [],
   "source": [
    "def ida(O, Theta, p, o_XY, v_XY, g, u, L_initial_limit ,L_reduction = 0.1):\n",
    "    start_time = time.time()  # Record the start time\n",
    "\n",
    "    CB = None # initilize the current best solution\n",
    "    L = L_initial_limit\n",
    "    \n",
    "    while CB == None:\n",
    "        HF = -np.inf\n",
    "        IDA_SearchAlgorithm_instance = IDA_SearchAlgorithm(O, Theta, p, o_XY, v_XY, g, u, L, CB, L_reduction)\n",
    "        IDA_SearchAlgorithm_instance.search2([], [], 0, 1)\n",
    "        CB = IDA_SearchAlgorithm_instance.CB\n",
    "        HF = IDA_SearchAlgorithm_instance.HF\n",
    "        L = min(HF, L*(1-L_reduction))\n",
    "\n",
    "    end_time = time.time()  # Record the end time\n",
    "    elapsed_time = end_time - start_time  # Calculate the elapsed time\n",
    "\n",
    "    return CB, round(elapsed_time,2)"
   ]
  },
  {
   "cell_type": "markdown",
   "metadata": {},
   "source": [
    "# Applications\n",
    "\n",
    "## 1 - No IR"
   ]
  },
  {
   "cell_type": "code",
   "execution_count": 13,
   "metadata": {},
   "outputs": [],
   "source": [
    "# An instance\n",
    "O = [[i] for i in range(30)]\n",
    "Theta = [i for i in range(10)] # theta in Theta is just the type of the agent (so, g will be indepedent form theta)\n",
    "p = lambda theta: 1/len(Theta)\n",
    "g_instance = amd.g_class(Theta, O, minimum_value=0, maximum_value=100)\n",
    "u_instance = amd.u_class(Theta, O, minimum_value=0, maximum_value=100) \n",
    "\n",
    "L_initial_limit = 80\n",
    "L_reduction = 0.3\n"
   ]
  },
  {
   "cell_type": "code",
   "execution_count": 14,
   "metadata": {},
   "outputs": [],
   "source": [
    "def ida_find_X(O, Theta, p, o_XY, v_XY, g_instance, u_instance, L_initial_limit, L_reduction = 0.1):\n",
    "    CB, elapsed_time = ida(O, Theta, p, o_XY, v_XY, g_instance.g, u_instance.u, L_initial_limit=L_initial_limit, L_reduction = L_reduction)\n",
    "    model_vX_value = amd.v_X(CB, Theta, p, g_instance.g, u_instance.u)\n",
    "\n",
    "    semi_random_CB = random.sample(O, len(CB))\n",
    "    semi_random_vX_value = amd.v_X(semi_random_CB, Theta, p, g_instance.g, u_instance.u)\n",
    "    if model_vX_value != 0:\n",
    "        model_vs_rand = round((model_vX_value-semi_random_vX_value)/model_vX_value * 100,2)\n",
    "    else:\n",
    "        model_vs_rand = None\n",
    "\n",
    "    return CB, round(model_vX_value,2), elapsed_time, semi_random_CB, round(semi_random_vX_value,2), model_vs_rand"
   ]
  },
  {
   "cell_type": "code",
   "execution_count": 15,
   "metadata": {},
   "outputs": [
    {
     "name": "stdout",
     "output_type": "stream",
     "text": [
      "Check IR for the model True\n",
      "Check IR for the semi-rnd True\n",
      "\n",
      "Elapsed time =  218.19\n",
      "Model X = [[2], [11], [17], [23], [29], [3], [9], [12], [18], [21], [24], [4], [27], [7], [10], [16], [13], [25], [22]]\n",
      "Semi random model X =  [[19], [12], [2], [17], [16], [28], [21], [18], [11], [29], [14], [10], [0], [24], [20], [23], [1], [26], [15]]\n",
      "\n",
      "Model vX value  89.4\n",
      "Semi random model vX value  77.0\n",
      "Relative improvement of the model  13.87  %\n"
     ]
    }
   ],
   "source": [
    "CB, model_vX_value, elapsed_time, semi_random_CB, semi_random_vX_value, model_vs_rand = ida_find_X(O, Theta, p, amd.o_XY, amd.v_XY, g_instance, u_instance, L_initial_limit, L_reduction)\n",
    "\n",
    "print(\"Check IR for the model\", amd.check_IR(Theta=Theta, X=CB, u=u_instance.u))\n",
    "print(\"Check IR for the semi-rnd\", amd.check_IR(Theta=Theta, X=semi_random_CB, u=u_instance.u))\n",
    "      \n",
    "print(\"\\nElapsed time = \", elapsed_time)\n",
    "print(\"Model X =\", CB)\n",
    "print(\"Semi random model X = \",semi_random_CB)\n",
    "print(\"\\nModel vX value \", model_vX_value)\n",
    "print(\"Semi random model vX value \", semi_random_vX_value)\n",
    "print(\"Relative improvement of the model \", model_vs_rand,\" %\")"
   ]
  },
  {
   "cell_type": "code",
   "execution_count": 16,
   "metadata": {},
   "outputs": [
    {
     "name": "stdout",
     "output_type": "stream",
     "text": [
      "         g   u\n",
      "model    89.4 96.0\n",
      "semi rnd 77.0 97.5\n"
     ]
    }
   ],
   "source": [
    "# Check the model on a single type\n",
    "\n",
    "def check_model_results(CB, g_instance, u_instance, Theta, semi_random_CB):\n",
    "    outcomeForAllThetas_model = [amd.o_X(theta = theta, X = CB, g = g_instance.g, u = u_instance.u) for theta in Theta]\n",
    "    gForAllOutcomes_model = [g_instance.g(theta=theta, o=o_model) for theta, o_model in zip(Theta, outcomeForAllThetas_model)]\n",
    "    uForAllOutcomes_model = [u_instance.u(theta=theta, o=o_model) for theta, o_model in zip(Theta, outcomeForAllThetas_model)]\n",
    "\n",
    "    outcomeForAllThetas_semiRandom = [amd.o_X(theta = theta, X = semi_random_CB, g = g_instance.g, u = u_instance.u) for theta in Theta]\n",
    "    gForAllOutcomes_semiRandom = [g_instance.g(theta=theta, o=o_semiRandom) for theta, o_semiRandom in zip(Theta, outcomeForAllThetas_semiRandom)]\n",
    "    uForAllOutcomes_semiRandom = [u_instance.u(theta=theta, o=o_semiRandom) for theta, o_semiRandom in zip(Theta, outcomeForAllThetas_semiRandom)]\n",
    "\n",
    "    return gForAllOutcomes_model, uForAllOutcomes_model, gForAllOutcomes_semiRandom, uForAllOutcomes_semiRandom\n",
    "\n",
    "\n",
    "\n",
    "gForAllOutcomes_model, uForAllOutcomes_model, gForAllOutcomes_semiRandom, uForAllOutcomes_semiRandom = check_model_results(CB, g_instance, u_instance, Theta, semi_random_CB)\n",
    "\n",
    "print(\"        \",\"g  \", \"u\")\n",
    "print(\"model   \", round(np.mean(gForAllOutcomes_model),2), round(np.mean(uForAllOutcomes_model),2))\n",
    "print(\"semi rnd\", round(np.mean(gForAllOutcomes_semiRandom),2), round(np.mean(uForAllOutcomes_semiRandom),2))"
   ]
  },
  {
   "cell_type": "markdown",
   "metadata": {},
   "source": [
    "## 2 - IR"
   ]
  },
  {
   "cell_type": "code",
   "execution_count": 17,
   "metadata": {},
   "outputs": [],
   "source": [
    "# An instance\n",
    "O = [[i] for i in range(20)]\n",
    "Theta = [i for i in range(10)] # theta in Theta is just the type of the agent (so, g will be indepedent form theta)\n",
    "p = lambda theta: 1/len(Theta)\n",
    "g_instance = amd.g_class(Theta, O, minimum_value=-50, maximum_value=50)\n",
    "u_instance = amd.u_class(Theta, O, minimum_value=-50, maximum_value=50) \n",
    "\n",
    "L_initial_limit = 35\n",
    "L_reduction = 0.1\n"
   ]
  },
  {
   "cell_type": "code",
   "execution_count": 18,
   "metadata": {},
   "outputs": [
    {
     "name": "stdout",
     "output_type": "stream",
     "text": [
      "Check IR for the model True\n",
      "Check IR for the semi-rnd True\n",
      "\n",
      "Elapsed time =  4.59\n",
      "Model X = [[18], [2], [15], [16], [13], [8], [3], [9]]\n",
      "Semi random model X =  [[7], [8], [17], [5], [9], [0], [16], [18]]\n",
      "\n",
      "Model vX value  31.5\n",
      "Semi random model vX value  3.2\n",
      "Relative improvement of the model  89.84  %\n"
     ]
    }
   ],
   "source": [
    "CB, model_vX_value, elapsed_time, semi_random_CB, semi_random_vX_value, model_vs_rand  = ida_find_X(O, Theta, p, amd.o_XY, amd.v_XY, g_instance, u_instance, L_initial_limit, L_reduction)\n",
    "\n",
    "print(\"Check IR for the model\", amd.check_IR(Theta=Theta, X=CB, u=u_instance.u))\n",
    "print(\"Check IR for the semi-rnd\", amd.check_IR(Theta=Theta, X=semi_random_CB, u=u_instance.u))\n",
    "print(\"\\nElapsed time = \", elapsed_time)\n",
    "print(\"Model X =\", CB)\n",
    "print(\"Semi random model X = \",semi_random_CB)\n",
    "print(\"\\nModel vX value \", model_vX_value)\n",
    "print(\"Semi random model vX value \", semi_random_vX_value)\n",
    "print(\"Relative improvement of the model \", model_vs_rand,\" %\")"
   ]
  },
  {
   "cell_type": "code",
   "execution_count": 19,
   "metadata": {},
   "outputs": [
    {
     "name": "stdout",
     "output_type": "stream",
     "text": [
      "         g   u\n",
      "model    31.5 36.9\n",
      "semi rnd 3.2 35.7\n"
     ]
    }
   ],
   "source": [
    "# Check g and u\n",
    "gForAllOutcomes_model, uForAllOutcomes_model, gForAllOutcomes_semiRandom, uForAllOutcomes_semiRandom = check_model_results(CB, g_instance, u_instance, Theta, semi_random_CB)\n",
    "\n",
    "print(\"        \",\"g  \", \"u\")\n",
    "print(\"model   \", round(np.mean(gForAllOutcomes_model),2), round(np.mean(uForAllOutcomes_model),2))\n",
    "print(\"semi rnd\", round(np.mean(gForAllOutcomes_semiRandom),2), round(np.mean(uForAllOutcomes_semiRandom),2))"
   ]
  },
  {
   "cell_type": "markdown",
   "metadata": {},
   "source": [
    "## 3 - Bartering"
   ]
  },
  {
   "cell_type": "code",
   "execution_count": 20,
   "metadata": {},
   "outputs": [],
   "source": [
    "# An instance\n",
    "number_of_items = 10\n",
    "number_of_outcomes = 25\n",
    "number_of_types = 10\n",
    "minimum_value = 0 # try -5\n",
    "maximum_value = 10 # try 5\n",
    "\n",
    "L_initial_limit = 60\n",
    "L_reduction = 0.1\n",
    "\n",
    "all_possible_outcomes = list(itertools.product([0, 1], repeat=number_of_items))\n",
    "O = random.sample(all_possible_outcomes, number_of_outcomes)\n",
    "Theta = [i for i in range(number_of_types)] # theta in Theta is just the type of the agent (so, g will be indepedent form theta)\n",
    "p = lambda theta: 1/len(Theta)\n",
    "g_instance = amd.g_bartering_class(Theta, O, minimum_value=minimum_value, maximum_value=maximum_value)\n",
    "u_instance = amd.u_bartering_class(Theta, O, minimum_value=minimum_value, maximum_value=maximum_value) \n"
   ]
  },
  {
   "cell_type": "code",
   "execution_count": 21,
   "metadata": {},
   "outputs": [
    {
     "name": "stdout",
     "output_type": "stream",
     "text": [
      "Check IR for the model True\n",
      "Check IR for the semi-rnd True\n",
      "\n",
      "Elapsed time =  2.37\n",
      "Model X = [[1, 0, 0, 0, 0, 0, 1, 1, 0, 0]]\n",
      "Semi random model X =  [(0, 0, 0, 1, 0, 0, 0, 0, 0, 1)]\n",
      "\n",
      "Model vX value  31.0\n",
      "Semi random model vX value  20.0\n",
      "Relative improvement of the model  35.48  %\n"
     ]
    }
   ],
   "source": [
    "CB, model_vX_value, elapsed_time, semi_random_CB, semi_random_vX_value, model_vs_rand = ida_find_X(O, Theta, p, amd.o_XY, amd.v_XY, g_instance, u_instance, L_initial_limit, L_reduction)\n",
    "\n",
    "print(\"Check IR for the model\", amd.check_IR(Theta=Theta, X=CB, u=u_instance.u))\n",
    "print(\"Check IR for the semi-rnd\", amd.check_IR(Theta=Theta, X=semi_random_CB, u=u_instance.u))\n",
    "print(\"\\nElapsed time = \", elapsed_time)\n",
    "print(\"Model X =\", CB)\n",
    "print(\"Semi random model X = \",semi_random_CB)\n",
    "print(\"\\nModel vX value \", model_vX_value)\n",
    "print(\"Semi random model vX value \", semi_random_vX_value)\n",
    "print(\"Relative improvement of the model \", model_vs_rand,\" %\")"
   ]
  },
  {
   "cell_type": "code",
   "execution_count": 22,
   "metadata": {},
   "outputs": [
    {
     "name": "stdout",
     "output_type": "stream",
     "text": [
      "         g   u\n",
      "model    31.0 13.9\n",
      "semi rnd 20.0 11.6\n"
     ]
    }
   ],
   "source": [
    "# Check g and u\n",
    "gForAllOutcomes_model, uForAllOutcomes_model, gForAllOutcomes_semiRandom, uForAllOutcomes_semiRandom = check_model_results(CB, g_instance, u_instance, Theta, semi_random_CB)\n",
    "\n",
    "print(\"        \",\"g  \", \"u\")\n",
    "print(\"model   \", round(np.mean(gForAllOutcomes_model),2), round(np.mean(uForAllOutcomes_model),2))\n",
    "print(\"semi rnd\", round(np.mean(gForAllOutcomes_semiRandom),2), round(np.mean(uForAllOutcomes_semiRandom),2))"
   ]
  },
  {
   "cell_type": "markdown",
   "metadata": {},
   "source": [
    "# Extra things\n",
    "\n",
    "## Another utility type for the batering problem"
   ]
  },
  {
   "cell_type": "code",
   "execution_count": 23,
   "metadata": {},
   "outputs": [],
   "source": [
    "# An instance\n",
    "number_of_items = 10\n",
    "number_of_outcomes = 100\n",
    "number_of_types = 5\n",
    "minimum_value = 0 # with [0,10] the IR constraint is mainly = False \n",
    "maximum_value = 10\n",
    "\n",
    "L_initial_limit = 60\n",
    "L_reduction = 0.1\n",
    "\n",
    "all_possible_outcomes = list(itertools.product([0, 1], repeat=number_of_items))\n",
    "O = random.sample(all_possible_outcomes, number_of_outcomes)\n",
    "initial_goods = random.choice(O)\n",
    "Theta = [i for i in range(number_of_types)] # theta in Theta is just the type of the agent (so, g will be indepedent form theta)\n",
    "p = lambda theta: 1/len(Theta)\n",
    "g_instance = amd.g_bartering_class_difference(Theta, O, minimum_value=minimum_value, maximum_value=maximum_value, initial_goods=initial_goods)\n",
    "u_instance = amd.u_bartering_class_difference(Theta, O, minimum_value=minimum_value, maximum_value=maximum_value, initial_goods=initial_goods) \n",
    "\n"
   ]
  },
  {
   "cell_type": "code",
   "execution_count": 24,
   "metadata": {},
   "outputs": [
    {
     "name": "stdout",
     "output_type": "stream",
     "text": [
      "Check IR for the model False\n",
      "Check IR for the semi-rnd True\n",
      "\n",
      "Elapsed time =  8.57\n",
      "Model X = [[1, 0, 0, 0, 0, 0, 0, 0, 0, 0]]\n",
      "Semi random model X =  [(1, 0, 1, 1, 0, 1, 0, 1, 1, 0)]\n",
      "\n",
      "Model vX value  35.0\n",
      "Semi random model vX value  1.0\n",
      "Relative improvement of the model  97.14  %\n"
     ]
    }
   ],
   "source": [
    "CB, model_vX_value, elapsed_time, semi_random_CB, semi_random_vX_value, model_vs_rand = ida_find_X(O, Theta, p, amd.o_XY, amd.v_XY, g_instance, u_instance, L_initial_limit, L_reduction)\n",
    "\n",
    "print(\"Check IR for the model\", amd.check_IR(Theta=Theta, X=CB, u=u_instance.u))\n",
    "print(\"Check IR for the semi-rnd\", amd.check_IR(Theta=Theta, X=semi_random_CB, u=u_instance.u))\n",
    "print(\"\\nElapsed time = \", elapsed_time)\n",
    "print(\"Model X =\", CB)\n",
    "print(\"Semi random model X = \",semi_random_CB)\n",
    "print(\"\\nModel vX value \", model_vX_value)\n",
    "print(\"Semi random model vX value \", semi_random_vX_value)\n",
    "print(\"Relative improvement of the model \", model_vs_rand,\" %\")"
   ]
  },
  {
   "cell_type": "code",
   "execution_count": 25,
   "metadata": {},
   "outputs": [
    {
     "name": "stdout",
     "output_type": "stream",
     "text": [
      "         g   u\n",
      "model    35.0 -23.8\n",
      "semi rnd 1.0 -2.4\n"
     ]
    }
   ],
   "source": [
    "# Check g and u\n",
    "gForAllOutcomes_model, uForAllOutcomes_model, gForAllOutcomes_semiRandom, uForAllOutcomes_semiRandom = check_model_results(CB, g_instance, u_instance, Theta, semi_random_CB)\n",
    "\n",
    "print(\"        \",\"g  \", \"u\")\n",
    "print(\"model   \", round(np.mean(gForAllOutcomes_model),2), round(np.mean(uForAllOutcomes_model),2))\n",
    "print(\"semi rnd\", round(np.mean(gForAllOutcomes_semiRandom),2), round(np.mean(uForAllOutcomes_semiRandom),2))\n"
   ]
  }
 ],
 "metadata": {
  "kernelspec": {
   "display_name": "base",
   "language": "python",
   "name": "python3"
  },
  "language_info": {
   "codemirror_mode": {
    "name": "ipython",
    "version": 3
   },
   "file_extension": ".py",
   "mimetype": "text/x-python",
   "name": "python",
   "nbconvert_exporter": "python",
   "pygments_lexer": "ipython3",
   "version": "3.11.1"
  }
 },
 "nbformat": 4,
 "nbformat_minor": 2
}
