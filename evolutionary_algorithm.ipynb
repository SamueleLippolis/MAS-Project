{
 "cells": [
  {
   "cell_type": "markdown",
   "metadata": {},
   "source": [
    "# MAS - PROJECT\n",
    "## SLEA AMD - SL Evolutionary algorithm for Automatic mechanism design \n",
    "My implementation and adaptation of an evolutionary algorithm to face the problem of the Automated mechanism design. \n",
    "The goal is to define an heuristic methods to get the optimum $o_X$ (or at least something good) in an efficent way.    "
   ]
  },
  {
   "cell_type": "code",
   "execution_count": 52,
   "metadata": {},
   "outputs": [],
   "source": [
    "import amd_project_functions as amd\n",
    "import numpy as np\n",
    "import random\n",
    "import time \n",
    "import itertools "
   ]
  },
  {
   "cell_type": "code",
   "execution_count": 53,
   "metadata": {},
   "outputs": [],
   "source": [
    "# An instance\n",
    "O = [[i] for i in range(20)]\n",
    "Theta = [i for i in range(10)] # theta in Theta is just the type of the agent (so, g will be indepedent form theta)\n",
    "p = lambda theta: 1/len(Theta)\n",
    "g_instance = amd.g_class(Theta, O, minimum_value=0, maximum_value=100)\n",
    "u_instance = amd.u_class(Theta, O, minimum_value=0, maximum_value=100) "
   ]
  },
  {
   "cell_type": "code",
   "execution_count": 54,
   "metadata": {},
   "outputs": [],
   "source": [
    "# Define the fitness function V(X)\n",
    "def fitness(X, Theta, p, g, u):\n",
    "    return amd.v_X(X, Theta, p, g, u)\n",
    "\n",
    "# Define how to decode a solution vector s into X\n",
    "def decode_solution(s, O):\n",
    "    return [O[i] for i in range(len(s)) if s[i] == 1]\n",
    "\n",
    "# Initialize population of n individuals\n",
    "def initialize_population(n, O):\n",
    "    return [np.random.randint(2, size=len(O)) for _ in range(n)]\n",
    "\n",
    "# Tournament selection\n",
    "def tournament_selection(population, fitness_values, new_population_size, tournamet_size=3):\n",
    "    selected = []\n",
    "    for _ in range(new_population_size):\n",
    "        participants = random.sample(list(zip(population, fitness_values)), tournamet_size)\n",
    "        winner = max(participants, key=lambda x: x[1])\n",
    "        selected.append(winner[0])\n",
    "    return selected\n",
    "\n",
    "# Crossover\n",
    "def crossover(parent1, parent2):\n",
    "    point = random.randint(1, len(parent1) - 1)\n",
    "    child1 = np.concatenate([parent1[:point], parent2[point:]])\n",
    "    child2 = np.concatenate([parent2[:point], parent1[point:]])\n",
    "    return child1, child2\n",
    "\n",
    "# Mutation\n",
    "def mutate(individual, mutation_rate=0.01):\n",
    "    for i in range(len(individual)):\n",
    "        if random.random() < mutation_rate:\n",
    "            individual[i] = 1 - individual[i]  # Flip bit\n",
    "    return individual\n",
    "\n",
    "# Main evolutionary algorithm\n",
    "def evolutionary_algorithm(O, n, new_population_size, tournament_size, max_evaluations, mutation_rate, Theta, p, g, u):\n",
    "    start_time = time.time()  # Record the start time\n",
    "    population = initialize_population(n, O)\n",
    "    evaluations = 0\n",
    "    \n",
    "    while evaluations < max_evaluations:\n",
    "        # Fitness assessment\n",
    "        fitness_values = [fitness(decode_solution(ind, O), Theta, p, g, u) for ind in population]\n",
    "        evaluations += len(population)\n",
    "        \n",
    "        # Tournament selection\n",
    "        selected_individuals = tournament_selection(population, fitness_values, new_population_size, tournament_size)\n",
    "        \n",
    "        # Generate new individuals through crossover and mutation\n",
    "        new_population = []\n",
    "        while len(new_population) < n - new_population_size:\n",
    "            parents = random.sample(selected_individuals, 2)\n",
    "            child1, child2 = crossover(parents[0], parents[1])\n",
    "            new_population.append(mutate(child1, mutation_rate))\n",
    "            if len(new_population) < n - new_population_size:\n",
    "                new_population.append(mutate(child2, mutation_rate))\n",
    "        \n",
    "        # Create new population\n",
    "        population = selected_individuals + new_population[:n - new_population_size]\n",
    "\n",
    "    # Final fitness assessment to get the best solution\n",
    "    final_fitness_values = [fitness(decode_solution(ind, O), Theta, p, g, u) for ind in population]\n",
    "    best_index = np.argmax(final_fitness_values)\n",
    "    best_solution = population[best_index]\n",
    "\n",
    "    end_time = time.time()  # Record the end time\n",
    "    elapsed_time = end_time - start_time  # Calculate the elapsed time\n",
    "    \n",
    "    return best_solution, round(fitness(decode_solution(best_solution, O), Theta, p, g, u),2), round(elapsed_time,2)\n",
    "\n"
   ]
  },
  {
   "cell_type": "markdown",
   "metadata": {},
   "source": [
    "Find X"
   ]
  },
  {
   "cell_type": "code",
   "execution_count": 55,
   "metadata": {},
   "outputs": [],
   "source": [
    "# Example usage\n",
    "# An instance\n",
    "O = [[i] for i in range(20)]\n",
    "Theta = [i for i in range(10)] # theta in Theta is just the type of the agent (so, g will be indepedent form theta)\n",
    "p = lambda theta: 1/len(Theta)\n",
    "g_instance = amd.g_class(Theta, O, minimum_value=0, maximum_value=100)\n",
    "u_instance = amd.u_class(Theta, O, minimum_value=0, maximum_value=100) \n",
    "\n",
    "max_evaluations = 1000  # Maximum number of fitness evaluations\n",
    "population_size = 30 # Number of individuals in the population\n",
    "new_population_size = 10  # Number of individuals to generate in each generation\n",
    "tournament_size = 3\n",
    "mutation_rate = 0.05"
   ]
  },
  {
   "cell_type": "code",
   "execution_count": 56,
   "metadata": {},
   "outputs": [
    {
     "name": "stdout",
     "output_type": "stream",
     "text": [
      "Best solution: [1 1 1 1 0 0 0 0 0 1 0 0 1 0 1 1 1 0 1 1]\n",
      "Best fitness: 79.0\n",
      "Elapsed time: 1.03 seconds\n"
     ]
    }
   ],
   "source": [
    "best_solution, best_fitness, elapsed_time = evolutionary_algorithm(\n",
    "    O=O,\n",
    "    n=population_size,\n",
    "    new_population_size=new_population_size,\n",
    "    tournament_size=tournament_size,\n",
    "    max_evaluations=max_evaluations,\n",
    "    mutation_rate=0.1,\n",
    "    Theta=Theta,\n",
    "    p=p, \n",
    "    g=g_instance.g,\n",
    "    u=u_instance.u\n",
    ")\n",
    "\n",
    "print(\"Best solution:\", best_solution)\n",
    "print(\"Best fitness:\", best_fitness)\n",
    "print(\"Elapsed time:\", elapsed_time, \"seconds\")"
   ]
  },
  {
   "cell_type": "markdown",
   "metadata": {},
   "source": [
    "Build X"
   ]
  },
  {
   "cell_type": "code",
   "execution_count": 57,
   "metadata": {},
   "outputs": [],
   "source": [
    "def decode_solution(s, O):\n",
    "    \"\"\"\n",
    "    Given a solution vector s and a list of lists O, return the subset X\n",
    "    where X contains elements from O at positions where s[i] == 1.\n",
    "    \n",
    "    Parameters:\n",
    "    s (list of int): A binary vector indicating which elements of O are in X.\n",
    "    O (list of lists): The original list of lists.\n",
    "    \n",
    "    Returns:\n",
    "    list of lists: The subset X.\n",
    "    \"\"\"\n",
    "    return [O[i] for i in range(len(s)) if s[i] == 1]\n"
   ]
  },
  {
   "cell_type": "code",
   "execution_count": 58,
   "metadata": {},
   "outputs": [
    {
     "name": "stdout",
     "output_type": "stream",
     "text": [
      "Check IR for the model = True\n",
      "X =  [[0], [1], [2], [3], [9], [12], [14], [15], [16], [18], [19]]\n",
      "Values of oX =  79.0\n",
      "         g   u\n",
      "model    79.0 93.5\n"
     ]
    }
   ],
   "source": [
    "X = decode_solution(best_solution, O)\n",
    "\n",
    "print(\"Check IR for the model =\", amd.check_IR(Theta=Theta, X=X, u=u_instance.u))\n",
    "print(\"X = \", X)\n",
    "print(\"Values of oX = \", best_fitness)\n",
    "\n",
    "outcomeForAllThetas_model = [amd.o_X(theta = theta, X = X, g = g_instance.g, u = u_instance.u) for theta in Theta]\n",
    "gForAllOutcomes_model = [g_instance.g(theta=theta, o=o_model) for theta, o_model in zip(Theta, outcomeForAllThetas_model)]\n",
    "uForAllOutcomes_model = [u_instance.u(theta=theta, o=o_model) for theta, o_model in zip(Theta, outcomeForAllThetas_model)]\n",
    "\n",
    "print(\"        \",\"g  \", \"u\")\n",
    "print(\"model   \", round(np.mean(gForAllOutcomes_model),2), round(np.mean(uForAllOutcomes_model),2))"
   ]
  },
  {
   "cell_type": "markdown",
   "metadata": {},
   "source": [
    "# Comparison with brench and bound "
   ]
  },
  {
   "cell_type": "markdown",
   "metadata": {},
   "source": [
    "## Brench and bound"
   ]
  },
  {
   "cell_type": "code",
   "execution_count": 59,
   "metadata": {},
   "outputs": [],
   "source": [
    "class SearchAlgorithm:\n",
    "    def __init__(self, O, Theta, p, o_XY, v_XY, g, u, L = float('-inf'), CB = set()):\n",
    "        \"\"\"\n",
    "        Initialize the SearchAlgorithm object.\n",
    "        \"\"\"\n",
    "        self.O = O\n",
    "        self.n = len(O) - 1 # check that \n",
    "        self.Theta = Theta\n",
    "        self.p = p\n",
    "        self.o_XY = o_XY\n",
    "        self.v_XY = v_XY\n",
    "        self.g = g\n",
    "        self.u = u\n",
    "        self.L = L\n",
    "        self.CB = CB\n",
    "\n",
    "    def search1(self, X, Y, v, d):\n",
    "        \"\"\"\n",
    "        Perform the SEARCH1 algorithm.\n",
    "        \"\"\"\n",
    "        if d == self.n + 1: # end of the tree\n",
    "            self.CB = X # update the current best X solution (here there is not the check that the best solution is better than the current one. No problem, it there is one before calling the function search)\n",
    "            self.L = v # update the current best value of X\n",
    "        else:            \n",
    "            if self.v_XY(amd.union_listOflists_list(X,self.O[d]), Y, self.O, self.Theta, self.p, self.g, self.u) > self.L:\n",
    "                self.search1(amd.union_listOflists_list(X,self.O[d]), Y, self.v_XY(amd.union_listOflists_list(X,self.O[d]), Y, self.O, self.Theta, self.p, self.g, self.u), d + 1)\n",
    "\n",
    "            if self.v_XY(X, amd.union_listOflists_list(Y,self.O[d]), self.O, self.Theta, self.p, self.g, self.u) > self.L:\n",
    "                self.search1(X,amd.union_listOflists_list(Y,self.O[d]), self.v_XY(X, amd.union_listOflists_list(Y,self.O[d]), self.O, self.Theta, self.p, self.g, self.u), d + 1)          \n",
    "\n",
    "\n",
    "def branch_and_bound_ds(O, Theta, p, o_XY, v_XY, g, u):\n",
    "    start_time = time.time()  # Record the start time\n",
    "\n",
    "    CB = None # initilize the current best solution\n",
    "    L = float('-inf')\n",
    "    \n",
    "    SearchAlgorithm_instance = SearchAlgorithm(O, Theta, p, o_XY, v_XY, g, u, L, CB)\n",
    "    SearchAlgorithm_instance.search1([], [], 0, 1)\n",
    "    CB = SearchAlgorithm_instance.CB\n",
    "\n",
    "    end_time = time.time()  # Record the end time\n",
    "    elapsed_time = end_time - start_time  # Calculate the elapsed time\n",
    "\n",
    "    return CB, round(elapsed_time,2)"
   ]
  },
  {
   "cell_type": "markdown",
   "metadata": {},
   "source": [
    "## Comparison"
   ]
  },
  {
   "cell_type": "code",
   "execution_count": 60,
   "metadata": {},
   "outputs": [],
   "source": [
    "# An instance\n",
    "O = [[i] for i in range(20)]\n",
    "Theta = [i for i in range(10)] # theta in Theta is just the type of the agent (so, g will be indepedent form theta)\n",
    "p = lambda theta: 1/len(Theta)\n",
    "g_instance = amd.g_class(Theta, O, minimum_value=0, maximum_value=100)\n",
    "u_instance = amd.u_class(Theta, O, minimum_value=0, maximum_value=100) \n",
    "\n",
    "max_evaluations = 3000  # Maximum number of fitness evaluations\n",
    "population_size = 30 # Number of individuals in the population\n",
    "new_population_size = 10  # Number of individuals to generate in each generation\n",
    "tournamen_size = 3\n",
    "mutation_rate = 0.05"
   ]
  },
  {
   "cell_type": "code",
   "execution_count": 61,
   "metadata": {},
   "outputs": [
    {
     "name": "stdout",
     "output_type": "stream",
     "text": [
      "Check IR for the model True\n",
      "Check IR for the semi-rnd True\n",
      "\n",
      "Elapsed time =  3.97\n",
      "Model X = [[6], [18], [2], [15], [5], [14], [16], [13], [3], [9]]\n",
      "Semi random model X =  [[17], [10], [9], [3], [6], [19], [4], [7], [0], [14]]\n",
      "\n",
      "Model vX value  86.7\n",
      "Semi random model vX value  59.8\n",
      "Relative improvement of the model  31.03  %\n",
      "         g   u\n",
      "model    86.7 90.5\n",
      "semi rnd 59.8 90.6\n"
     ]
    }
   ],
   "source": [
    "def find_X(O, Theta, p, o_XY, v_XY, g_instance, u_instance):\n",
    "    CB, elapsed_time = branch_and_bound_ds(O, Theta, p, o_XY, v_XY, g_instance.g, u_instance.u)\n",
    "    model_vX_value = amd.v_X(CB, Theta, p, g_instance.g, u_instance.u)\n",
    "\n",
    "    semi_random_CB = random.sample(O, len(CB))\n",
    "    semi_random_vX_value = amd.v_X(semi_random_CB, Theta, p, g_instance.g, u_instance.u)\n",
    "    if model_vX_value != 0:\n",
    "        model_vs_rand = round((model_vX_value-semi_random_vX_value)/model_vX_value * 100,2)\n",
    "    else:\n",
    "        model_vs_rand = None\n",
    "\n",
    "    return CB, round(model_vX_value,2), elapsed_time, semi_random_CB, round(semi_random_vX_value,2), model_vs_rand\n",
    "\n",
    "CB, model_vX_value, elapsed_time, semi_random_CB, semi_random_vX_value, model_vs_rand = find_X(O, Theta, p, amd.o_XY, amd.v_XY, g_instance, u_instance)\n",
    "\n",
    "print(\"Check IR for the model\", amd.check_IR(Theta=Theta, X=CB, u=u_instance.u))\n",
    "print(\"Check IR for the semi-rnd\", amd.check_IR(Theta=Theta, X=semi_random_CB, u=u_instance.u))\n",
    "      \n",
    "print(\"\\nElapsed time = \", elapsed_time)\n",
    "print(\"Model X =\", CB)\n",
    "print(\"Semi random model X = \",semi_random_CB)\n",
    "print(\"\\nModel vX value \", model_vX_value)\n",
    "print(\"Semi random model vX value \", semi_random_vX_value)\n",
    "print(\"Relative improvement of the model \", model_vs_rand,\" %\")\n",
    "\n",
    "# Check the model on a single type\n",
    "\n",
    "def check_model_results(CB, g_instance, u_instance, Theta, semi_random_CB):\n",
    "    outcomeForAllThetas_model = [amd.o_X(theta = theta, X = CB, g = g_instance.g, u = u_instance.u) for theta in Theta]\n",
    "    gForAllOutcomes_model = [g_instance.g(theta=theta, o=o_model) for theta, o_model in zip(Theta, outcomeForAllThetas_model)]\n",
    "    uForAllOutcomes_model = [u_instance.u(theta=theta, o=o_model) for theta, o_model in zip(Theta, outcomeForAllThetas_model)]\n",
    "\n",
    "    outcomeForAllThetas_semiRandom = [amd.o_X(theta = theta, X = semi_random_CB, g = g_instance.g, u = u_instance.u) for theta in Theta]\n",
    "    gForAllOutcomes_semiRandom = [g_instance.g(theta=theta, o=o_semiRandom) for theta, o_semiRandom in zip(Theta, outcomeForAllThetas_semiRandom)]\n",
    "    uForAllOutcomes_semiRandom = [u_instance.u(theta=theta, o=o_semiRandom) for theta, o_semiRandom in zip(Theta, outcomeForAllThetas_semiRandom)]\n",
    "\n",
    "    return gForAllOutcomes_model, uForAllOutcomes_model, gForAllOutcomes_semiRandom, uForAllOutcomes_semiRandom\n",
    "\n",
    "\n",
    "\n",
    "gForAllOutcomes_model, uForAllOutcomes_model, gForAllOutcomes_semiRandom, uForAllOutcomes_semiRandom = check_model_results(CB, g_instance, u_instance, Theta, semi_random_CB)\n",
    "\n",
    "print(\"        \",\"g  \", \"u\")\n",
    "print(\"model   \", round(np.mean(gForAllOutcomes_model),2), round(np.mean(uForAllOutcomes_model),2))\n",
    "print(\"semi rnd\", round(np.mean(gForAllOutcomes_semiRandom),2), round(np.mean(uForAllOutcomes_semiRandom),2))"
   ]
  },
  {
   "cell_type": "code",
   "execution_count": 62,
   "metadata": {},
   "outputs": [
    {
     "name": "stdout",
     "output_type": "stream",
     "text": [
      "Best solution: [0 0 1 1 0 0 1 0 0 0 0 0 0 0 1 1 1 0 1 0]\n",
      "Best fitness: 86.7\n",
      "Elapsed time: 2.42 seconds\n",
      "\n",
      "Check IR for the model = True\n",
      "X =  [[2], [3], [6], [14], [15], [16], [18]]\n",
      "Values of oX =  86.7\n",
      "\n",
      "         g   u\n",
      "model    86.7 90.5\n"
     ]
    }
   ],
   "source": [
    "best_solution, best_fitness, elapsed_time = evolutionary_algorithm(\n",
    "    O=O,\n",
    "    n=population_size,\n",
    "    new_population_size=new_population_size,\n",
    "    tournament_size=tournament_size,\n",
    "    max_evaluations=max_evaluations,\n",
    "    mutation_rate=0.1,\n",
    "    Theta=Theta,\n",
    "    p=p, \n",
    "    g=g_instance.g,\n",
    "    u=u_instance.u\n",
    ")\n",
    "print(\"Best solution:\", best_solution)\n",
    "print(\"Best fitness:\", best_fitness)\n",
    "print(\"Elapsed time:\", elapsed_time, \"seconds\\n\")\n",
    "\n",
    "X = decode_solution(best_solution, O)\n",
    "\n",
    "print(\"Check IR for the model =\", amd.check_IR(Theta=Theta, X=X, u=u_instance.u))\n",
    "print(\"X = \", X)\n",
    "print(\"Values of oX = \", best_fitness)\n",
    "\n",
    "outcomeForAllThetas_model = [amd.o_X(theta = theta, X = X, g = g_instance.g, u = u_instance.u) for theta in Theta]\n",
    "gForAllOutcomes_model = [g_instance.g(theta=theta, o=o_model) for theta, o_model in zip(Theta, outcomeForAllThetas_model)]\n",
    "uForAllOutcomes_model = [u_instance.u(theta=theta, o=o_model) for theta, o_model in zip(Theta, outcomeForAllThetas_model)]\n",
    "\n",
    "print(\"\\n        \",\"g  \", \"u\")\n",
    "print(\"model   \", round(np.mean(gForAllOutcomes_model),2), round(np.mean(uForAllOutcomes_model),2))"
   ]
  },
  {
   "cell_type": "markdown",
   "metadata": {},
   "source": [
    "## Bartering "
   ]
  },
  {
   "cell_type": "code",
   "execution_count": 63,
   "metadata": {},
   "outputs": [],
   "source": [
    "# An instance\n",
    "number_of_items = 10\n",
    "number_of_outcomes = 20\n",
    "number_of_types = 5\n",
    "minimum_value = 0 # try -5\n",
    "maximum_value = 10 # try 5\n",
    "\n",
    "\n",
    "all_possible_outcomes = list(itertools.product([0, 1], repeat=number_of_items))\n",
    "O = random.sample(all_possible_outcomes, number_of_outcomes)\n",
    "Theta = [i for i in range(number_of_types)] # theta in Theta is just the type of the agent (so, g will be indepedent form theta)\n",
    "p = lambda theta: 1/len(Theta)\n",
    "g_instance = amd.g_bartering_class(Theta, O, minimum_value=minimum_value, maximum_value=maximum_value)\n",
    "u_instance = amd.u_bartering_class(Theta, O, minimum_value=minimum_value, maximum_value=maximum_value) \n",
    "\n"
   ]
  },
  {
   "cell_type": "code",
   "execution_count": 66,
   "metadata": {},
   "outputs": [
    {
     "name": "stdout",
     "output_type": "stream",
     "text": [
      "Best solution: [0 0 0 1 0 0 0 0 1 0 0 0 0 0 0 0 0 1 0 0]\n",
      "Best fitness: 42.2\n",
      "Elapsed time: 3.98 seconds\n",
      "\n",
      "Check IR for the model = True\n",
      "X =  [(1, 0, 0, 1, 0, 0, 0, 0, 1, 0), (0, 0, 1, 0, 0, 1, 0, 0, 0, 1), (0, 0, 0, 1, 1, 1, 1, 1, 0, 0)]\n",
      "Values of oX =  42.2\n",
      "\n",
      "         g   u\n",
      "model    42.2 26.2\n"
     ]
    }
   ],
   "source": [
    "max_evaluations = 3000  # Maximum number of fitness evaluations\n",
    "population_size = 30 # Number of individuals in the population\n",
    "new_population_size = 10  # Number of individuals to generate in each generation\n",
    "#tournament_size = 3\n",
    "#mutation_rate = 0.05 #-> the mutation rate gives problems \n",
    "\n",
    "\n",
    "best_solution, best_fitness, elapsed_time = evolutionary_algorithm(\n",
    "    O=O,\n",
    "    n=population_size,\n",
    "    new_population_size=new_population_size,\n",
    "    tournament_size=tournament_size,\n",
    "    max_evaluations=max_evaluations,\n",
    "    mutation_rate=0.1,\n",
    "    Theta=Theta,\n",
    "    p=p, \n",
    "    g=g_instance.g,\n",
    "    u=u_instance.u\n",
    ")\n",
    "print(\"Best solution:\", best_solution)\n",
    "print(\"Best fitness:\", best_fitness)\n",
    "print(\"Elapsed time:\", elapsed_time, \"seconds\\n\")\n",
    "\n",
    "X = decode_solution(best_solution, O)\n",
    "\n",
    "print(\"Check IR for the model =\", amd.check_IR(Theta=Theta, X=X, u=u_instance.u))\n",
    "print(\"X = \", X)\n",
    "print(\"Values of oX = \", best_fitness)\n",
    "\n",
    "outcomeForAllThetas_model = [amd.o_X(theta = theta, X = X, g = g_instance.g, u = u_instance.u) for theta in Theta]\n",
    "gForAllOutcomes_model = [g_instance.g(theta=theta, o=o_model) for theta, o_model in zip(Theta, outcomeForAllThetas_model)]\n",
    "uForAllOutcomes_model = [u_instance.u(theta=theta, o=o_model) for theta, o_model in zip(Theta, outcomeForAllThetas_model)]\n",
    "\n",
    "print(\"\\n        \",\"g  \", \"u\")\n",
    "print(\"model   \", round(np.mean(gForAllOutcomes_model),2), round(np.mean(uForAllOutcomes_model),2))"
   ]
  },
  {
   "cell_type": "markdown",
   "metadata": {},
   "source": [
    "## Extra bartering "
   ]
  },
  {
   "cell_type": "code",
   "execution_count": 76,
   "metadata": {},
   "outputs": [],
   "source": [
    "# An instance\n",
    "number_of_items = 8\n",
    "number_of_outcomes = 50\n",
    "number_of_types = 5\n",
    "minimum_value = 0 # with [0,10] the IR constraint is mainly = False \n",
    "maximum_value = 10\n",
    "\n",
    "all_possible_outcomes = list(itertools.product([0, 1], repeat=number_of_items))\n",
    "O = random.sample(all_possible_outcomes, number_of_outcomes)\n",
    "initial_goods = random.choice(O)\n",
    "Theta = [i for i in range(number_of_types)] # theta in Theta is just the type of the agent (so, g will be indepedent form theta)\n",
    "p = lambda theta: 1/len(Theta)\n",
    "g_instance = amd.g_bartering_class_difference(Theta, O, minimum_value=minimum_value, maximum_value=maximum_value, initial_goods=initial_goods)\n",
    "u_instance = amd.u_bartering_class_difference(Theta, O, minimum_value=minimum_value, maximum_value=maximum_value, initial_goods=initial_goods)  \n",
    "\n"
   ]
  },
  {
   "cell_type": "code",
   "execution_count": 94,
   "metadata": {},
   "outputs": [
    {
     "name": "stdout",
     "output_type": "stream",
     "text": [
      "Best solution: [1 0 0 1 1 1 0 0 0 0 1 0 0 0 1 0 0 0 0 0 0 0 0 0 1 1 1 1 0 0 0 0 0 0 0 0 0\n",
      " 0 1 1 0 0 0 0 1 0 1 1 1 1]\n",
      "Best fitness: 0.4\n",
      "Elapsed time: 3.16 seconds\n",
      "\n",
      "Check IR for the model = True\n",
      "X =  [(0, 1, 0, 0, 0, 0, 1, 1), (0, 0, 0, 1, 1, 1, 0, 1), (1, 0, 1, 0, 0, 0, 1, 0), (1, 0, 0, 1, 0, 1, 0, 1), (0, 0, 1, 1, 1, 0, 0, 0), (1, 1, 0, 0, 0, 0, 1, 0), (1, 0, 1, 0, 0, 1, 0, 0), (1, 0, 1, 0, 0, 0, 0, 1), (0, 0, 0, 0, 0, 1, 1, 1), (1, 0, 0, 0, 0, 1, 1, 0), (0, 1, 1, 0, 1, 0, 0, 0), (0, 0, 0, 0, 1, 0, 0, 1), (0, 0, 0, 1, 1, 0, 1, 0), (0, 1, 0, 0, 1, 1, 0, 0), (0, 0, 1, 1, 0, 1, 0, 1), (0, 1, 0, 1, 1, 1, 0, 0), (0, 1, 1, 0, 0, 0, 1, 0)]\n",
      "Values of oX =  0.4\n",
      "\n",
      "         g   u\n",
      "model    0.4 7.6\n"
     ]
    }
   ],
   "source": [
    "max_evaluations = 2000  # Maximum number of fitness evaluations\n",
    "population_size = 30 # Number of individuals in the population\n",
    "new_population_size = 10  # Number of individuals to generate in each generation\n",
    "#tournament_size = 3\n",
    "#mutation_rate = 0.05 #-> the mutation rate gives problems \n",
    "\n",
    "\n",
    "best_solution, best_fitness, elapsed_time = evolutionary_algorithm(\n",
    "    O=O,\n",
    "    n=population_size,\n",
    "    new_population_size=new_population_size,\n",
    "    tournament_size=tournament_size,\n",
    "    max_evaluations=max_evaluations,\n",
    "    mutation_rate=0.1,\n",
    "    Theta=Theta,\n",
    "    p=p, \n",
    "    g=g_instance.g,\n",
    "    u=u_instance.u\n",
    ")\n",
    "print(\"Best solution:\", best_solution)\n",
    "print(\"Best fitness:\", best_fitness)\n",
    "print(\"Elapsed time:\", elapsed_time, \"seconds\\n\")\n",
    "\n",
    "X = decode_solution(best_solution, O)\n",
    "\n",
    "print(\"Check IR for the model =\", amd.check_IR(Theta=Theta, X=X, u=u_instance.u))\n",
    "print(\"X = \", X)\n",
    "print(\"Values of oX = \", best_fitness)\n",
    "\n",
    "outcomeForAllThetas_model = [amd.o_X(theta = theta, X = X, g = g_instance.g, u = u_instance.u) for theta in Theta]\n",
    "gForAllOutcomes_model = [g_instance.g(theta=theta, o=o_model) for theta, o_model in zip(Theta, outcomeForAllThetas_model)]\n",
    "uForAllOutcomes_model = [u_instance.u(theta=theta, o=o_model) for theta, o_model in zip(Theta, outcomeForAllThetas_model)]\n",
    "\n",
    "print(\"\\n        \",\"g  \", \"u\")\n",
    "print(\"model   \", round(np.mean(gForAllOutcomes_model),2), round(np.mean(uForAllOutcomes_model),2))"
   ]
  }
 ],
 "metadata": {
  "kernelspec": {
   "display_name": "base",
   "language": "python",
   "name": "python3"
  },
  "language_info": {
   "codemirror_mode": {
    "name": "ipython",
    "version": 3
   },
   "file_extension": ".py",
   "mimetype": "text/x-python",
   "name": "python",
   "nbconvert_exporter": "python",
   "pygments_lexer": "ipython3",
   "version": "3.11.1"
  }
 },
 "nbformat": 4,
 "nbformat_minor": 2
}
